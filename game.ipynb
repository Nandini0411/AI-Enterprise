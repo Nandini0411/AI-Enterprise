{
 "cells": [
  {
   "cell_type": "markdown",
   "metadata": {},
   "source": [
    "The Challenge:\n",
    "\n",
    "Write a program that picks a random integer from 1 to 100, and has players guess the number. The rules are:\n",
    "\n",
    "If a player's guess is less than 1 or greater than 100, say \"OUT OF BOUNDS\"\n",
    "On a player's first turn, if their guess is\n",
    "within 10 of the number, return \"WARM!\"\n",
    "further than 10 away from the number, return \"COLD!\"\n",
    "On all subsequent turns, if a guess is\n",
    "closer to the number than the previous guess return \"WARMER!\"\n",
    "farther from the number than the previous guess, return \"COLDER!\"\n",
    "When the player's guess equals the number, tell them they've guessed correctly and how many guesses it took!"
   ]
  },
  {
   "cell_type": "code",
   "execution_count": 1,
   "metadata": {},
   "outputs": [],
   "source": [
    "#importing Library\n",
    "from random import randint"
   ]
  },
  {
   "cell_type": "code",
   "execution_count": 2,
   "metadata": {},
   "outputs": [
    {
     "data": {
      "text/plain": [
       "62"
      ]
     },
     "execution_count": 2,
     "metadata": {},
     "output_type": "execute_result"
    }
   ],
   "source": [
    "#taking a random number\n",
    "guess_num=randint(1,100)\n",
    "guess_num\n"
   ]
  },
  {
   "cell_type": "code",
   "execution_count": 3,
   "metadata": {},
   "outputs": [
    {
     "name": "stdout",
     "output_type": "stream",
     "text": [
      "Enter a number:15\n",
      "Cold\n",
      "Enter a number:30\n",
      "Warmer\n",
      "Enter a number:35\n",
      "Warmer\n",
      "Enter a number:50\n",
      "Warmer\n",
      "Enter a number:60\n",
      "Warmer\n",
      "Enter a number:90\n",
      "Colder\n",
      "Enter a number:80\n",
      "Warmer\n",
      "Enter a number:85\n",
      "Colder\n",
      "Enter a number:71\n",
      "Warmer\n",
      "Enter a number:65\n",
      "Warmer\n",
      "Enter a number:63\n",
      "Warmer\n",
      "Enter a number:62\n",
      "Eureka!!! You found it\n"
     ]
    }
   ],
   "source": [
    "# initializing variables and list\n",
    "num=0\n",
    "compare_num=0\n",
    "mylist=[]\n",
    "num=int(input(\"Enter a number:\"))\n",
    "mylist.append(num)\n",
    "#Checking for the first pass\n",
    "if(num<0 or num>100):\n",
    "    print(\"OUT OF BOUND\")\n",
    "else:\n",
    "    diff=num-guess_num\n",
    "    if(diff==0):\n",
    "        print(\"Eureka!!! You found it\")\n",
    "    elif(diff<-10 or diff>10):\n",
    "        print(\"Cold\")\n",
    "    else:\n",
    "        print(\"Warm\")\n",
    "\n",
    "#Comparing for the subsequent passes\n",
    "while(num!=guess_num):\n",
    "    compare_num=mylist[-1]\n",
    "    num=int(input(\"Enter a number:\"))\n",
    "    mylist.append(num)\n",
    "    if(num<0 or num>100):\n",
    "        print(\"OUT OF BOUND\")\n",
    "    else:\n",
    "        diff1=num-guess_num\n",
    "        diff2=compare_num-guess_num\n",
    "        if(diff1==0):\n",
    "            print(\"Eureka!!! You found it\")\n",
    "        elif(abs(diff2)<abs(diff1)):\n",
    "            print(\"Colder\")\n",
    "        else:\n",
    "            print(\"Warmer\")\n",
    "        \n",
    "        "
   ]
  },
  {
   "cell_type": "code",
   "execution_count": 4,
   "metadata": {},
   "outputs": [
    {
     "name": "stdout",
     "output_type": "stream",
     "text": [
      "[15, 30, 35, 50, 60, 90, 80, 85, 71, 65, 63, 62]\n"
     ]
    }
   ],
   "source": [
    "print(mylist)"
   ]
  },
  {
   "cell_type": "code",
   "execution_count": 5,
   "metadata": {},
   "outputs": [
    {
     "name": "stdout",
     "output_type": "stream",
     "text": [
      "It took you 12 guesses to get to the number \n"
     ]
    }
   ],
   "source": [
    "no_of_guesses=len(mylist)\n",
    "print(f\"It took you {no_of_guesses} guesses to get to the number \")"
   ]
  }
 ],
 "metadata": {
  "kernelspec": {
   "display_name": "Python 3",
   "language": "python",
   "name": "python3"
  },
  "language_info": {
   "codemirror_mode": {
    "name": "ipython",
    "version": 3
   },
   "file_extension": ".py",
   "mimetype": "text/x-python",
   "name": "python",
   "nbconvert_exporter": "python",
   "pygments_lexer": "ipython3",
   "version": "3.8.5"
  }
 },
 "nbformat": 4,
 "nbformat_minor": 2
}
