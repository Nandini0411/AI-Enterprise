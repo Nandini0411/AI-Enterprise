{
 "cells": [
  {
   "cell_type": "markdown",
   "metadata": {},
   "source": [
    "<H1> AI Enterprise Sample Code- Lab 1\n",
    " <h2> Nandini Malhotra | 100768797\n",
    "<h3> Program to draw shapes on user input\n",
    "    "
   ]
  },
  {
   "cell_type": "code",
   "execution_count": null,
   "metadata": {},
   "outputs": [],
   "source": [
    "import ColabTurtle"
   ]
  },
  {
   "cell_type": "code",
   "execution_count": 3,
   "metadata": {},
   "outputs": [],
   "source": [
    "from ColabTurtle.Turtle import *"
   ]
  },
  {
   "cell_type": "code",
   "execution_count": 4,
   "metadata": {},
   "outputs": [],
   "source": [
    "\n",
    "def drawsquare():\n",
    "    initializeTurtle()\n",
    "    forward(100)\n",
    "    right(90)\n",
    "    forward(100)\n",
    "    right(90)\n",
    "    forward(100)\n",
    "    right(90)\n",
    "    forward(100)\n",
    "\n"
   ]
  },
  {
   "cell_type": "code",
   "execution_count": 5,
   "metadata": {},
   "outputs": [],
   "source": [
    "def drawrect():\n",
    "    initializeTurtle()\n",
    "    forward(100)\n",
    "    right(90)\n",
    "    forward(200)\n",
    "    right(90)\n",
    "    forward(100)\n",
    "    right(90)\n",
    "    forward(200)\n"
   ]
  },
  {
   "cell_type": "code",
   "execution_count": 6,
   "metadata": {
    "scrolled": true
   },
   "outputs": [],
   "source": [
    "def drawtri():\n",
    "    initializeTurtle()\n",
    "    forward(100)\n",
    "    right(120)\n",
    "    forward(100)\n",
    "    right(120)\n",
    "    forward(100)"
   ]
  },
  {
   "cell_type": "code",
   "execution_count": 7,
   "metadata": {},
   "outputs": [],
   "source": [
    "def drawcirc():\n",
    "    initializeTurtle()\n",
    "    for i in range(1,181):\n",
    "        forward(2)\n",
    "        right(2)\n",
    "        i+=1\n"
   ]
  },
  {
   "cell_type": "code",
   "execution_count": 8,
   "metadata": {},
   "outputs": [],
   "source": [
    "def drawpent():\n",
    "    initializeTurtle()\n",
    "    forward(100)\n",
    "    right(72)\n",
    "    forward(100)\n",
    "    right(72)\n",
    "    forward(100)\n",
    "    right(72)\n",
    "    forward(100)\n",
    "    right(72)\n",
    "    forward(100)"
   ]
  },
  {
   "cell_type": "code",
   "execution_count": 9,
   "metadata": {},
   "outputs": [],
   "source": [
    "def drawhex():\n",
    "    initializeTurtle()\n",
    "    forward(100)\n",
    "    right(60)\n",
    "    forward(100)\n",
    "    right(60)\n",
    "    forward(100)\n",
    "    right(60)\n",
    "    forward(100)\n",
    "    right(60)\n",
    "    forward(100)\n",
    "    right(60)\n",
    "    forward(100)"
   ]
  },
  {
   "cell_type": "code",
   "execution_count": 11,
   "metadata": {
    "scrolled": false
   },
   "outputs": [
    {
     "name": "stdout",
     "output_type": "stream",
     "text": [
      "Enter the number corresponding to the shape you want to draw\n",
      "1. Square\n",
      "2. Rectangle\n",
      "3.Circle\n",
      "4. Triangle\n",
      "5. Pentagon\n",
      "6. Heaxagon\n",
      "6\n"
     ]
    },
    {
     "data": {
      "text/html": [
       "\n",
       "      <svg width=\"800\" height=\"500\">\n",
       "        <rect width=\"100%\" height=\"100%\" fill=\"black\"/>\n",
       "        <line x1=\"400\" y1=\"250\" x2=\"400.0\" y2=\"150.0\" stroke-linecap=\"round\" style=\"stroke:white;stroke-width:4\"/><line x1=\"400.0\" y1=\"150.0\" x2=\"486.60254037844385\" y2=\"99.99999999999996\" stroke-linecap=\"round\" style=\"stroke:white;stroke-width:4\"/><line x1=\"486.60254037844385\" y1=\"99.99999999999996\" x2=\"573.2050807568877\" y2=\"149.99999999999994\" stroke-linecap=\"round\" style=\"stroke:white;stroke-width:4\"/><line x1=\"573.2050807568877\" y1=\"149.99999999999994\" x2=\"573.2050807568877\" y2=\"249.99999999999994\" stroke-linecap=\"round\" style=\"stroke:white;stroke-width:4\"/><line x1=\"573.2050807568877\" y1=\"249.99999999999994\" x2=\"486.6025403784438\" y2=\"299.99999999999994\" stroke-linecap=\"round\" style=\"stroke:white;stroke-width:4\"/><line x1=\"486.6025403784438\" y1=\"299.99999999999994\" x2=\"399.99999999999994\" y2=\"249.99999999999994\" stroke-linecap=\"round\" style=\"stroke:white;stroke-width:4\"/>\n",
       "        \n",
       "      <g visibility=visible transform=\"rotate(120,399.99999999999994,249.99999999999994) translate(399.99999999999994, 249.99999999999994)\">\n",
       "        <circle stroke=\"white\" stroke-width=\"3\" fill=\"transparent\" r=\"12\" cx=\"0\" cy=\"0\"/>\n",
       "        <polygon points=\"0,19 3,16 -3,16\" style=\"fill:white;stroke:white;stroke-width:2\"/>\n",
       "      </g>\n",
       "    \n",
       "      </svg>\n",
       "    "
      ],
      "text/plain": [
       "<IPython.core.display.HTML object>"
      ]
     },
     "metadata": {},
     "output_type": "display_data"
    },
    {
     "name": "stdout",
     "output_type": "stream",
     "text": [
      "Do you want to continue drawing Y/N\n",
      "Y\n",
      "Enter the number corresponding to the shape you want to draw\n",
      "1. Square\n",
      "2. Rectangle\n",
      "3.Circle\n",
      "4. Triangle\n",
      "5. Pentagon\n",
      "6. Heaxagon\n",
      "5\n"
     ]
    },
    {
     "data": {
      "text/html": [
       "\n",
       "      <svg width=\"800\" height=\"500\">\n",
       "        <rect width=\"100%\" height=\"100%\" fill=\"black\"/>\n",
       "        <line x1=\"400\" y1=\"250\" x2=\"400.0\" y2=\"150.0\" stroke-linecap=\"round\" style=\"stroke:white;stroke-width:4\"/><line x1=\"400.0\" y1=\"150.0\" x2=\"495.10565162951536\" y2=\"119.09830056250523\" stroke-linecap=\"round\" style=\"stroke:white;stroke-width:4\"/><line x1=\"495.10565162951536\" y1=\"119.09830056250523\" x2=\"553.8841768587627\" y2=\"199.99999999999997\" stroke-linecap=\"round\" style=\"stroke:white;stroke-width:4\"/><line x1=\"553.8841768587627\" y1=\"199.99999999999997\" x2=\"495.10565162951536\" y2=\"280.9016994374947\" stroke-linecap=\"round\" style=\"stroke:white;stroke-width:4\"/><line x1=\"495.10565162951536\" y1=\"280.9016994374947\" x2=\"400.0\" y2=\"249.99999999999997\" stroke-linecap=\"round\" style=\"stroke:white;stroke-width:4\"/>\n",
       "        \n",
       "      <g visibility=visible transform=\"rotate(108,400.0,249.99999999999997) translate(400.0, 249.99999999999997)\">\n",
       "        <circle stroke=\"white\" stroke-width=\"3\" fill=\"transparent\" r=\"12\" cx=\"0\" cy=\"0\"/>\n",
       "        <polygon points=\"0,19 3,16 -3,16\" style=\"fill:white;stroke:white;stroke-width:2\"/>\n",
       "      </g>\n",
       "    \n",
       "      </svg>\n",
       "    "
      ],
      "text/plain": [
       "<IPython.core.display.HTML object>"
      ]
     },
     "metadata": {},
     "output_type": "display_data"
    },
    {
     "name": "stdout",
     "output_type": "stream",
     "text": [
      "Do you want to continue drawing Y/N\n",
      "Y\n",
      "Enter the number corresponding to the shape you want to draw\n",
      "1. Square\n",
      "2. Rectangle\n",
      "3.Circle\n",
      "4. Triangle\n",
      "5. Pentagon\n",
      "6. Heaxagon\n",
      "4\n"
     ]
    },
    {
     "data": {
      "text/html": [
       "\n",
       "      <svg width=\"800\" height=\"500\">\n",
       "        <rect width=\"100%\" height=\"100%\" fill=\"black\"/>\n",
       "        <line x1=\"400\" y1=\"250\" x2=\"400.0\" y2=\"150.0\" stroke-linecap=\"round\" style=\"stroke:white;stroke-width:4\"/><line x1=\"400.0\" y1=\"150.0\" x2=\"486.6025403784439\" y2=\"200.0\" stroke-linecap=\"round\" style=\"stroke:white;stroke-width:4\"/><line x1=\"486.6025403784439\" y1=\"200.0\" x2=\"400.0\" y2=\"250.0\" stroke-linecap=\"round\" style=\"stroke:white;stroke-width:4\"/>\n",
       "        \n",
       "      <g visibility=visible transform=\"rotate(60,400.0,250.0) translate(400.0, 250.0)\">\n",
       "        <circle stroke=\"white\" stroke-width=\"3\" fill=\"transparent\" r=\"12\" cx=\"0\" cy=\"0\"/>\n",
       "        <polygon points=\"0,19 3,16 -3,16\" style=\"fill:white;stroke:white;stroke-width:2\"/>\n",
       "      </g>\n",
       "    \n",
       "      </svg>\n",
       "    "
      ],
      "text/plain": [
       "<IPython.core.display.HTML object>"
      ]
     },
     "metadata": {},
     "output_type": "display_data"
    },
    {
     "name": "stdout",
     "output_type": "stream",
     "text": [
      "Do you want to continue drawing Y/N\n",
      "N\n"
     ]
    }
   ],
   "source": [
    "\n",
    "choice='Y'\n",
    "while(choice!='N'):\n",
    "    \n",
    "    print(\"Enter the number corresponding to the shape you want to draw\")\n",
    "    print(\"1. Square\\n2. Rectangle\\n3.Circle\\n4. Triangle\\n5. Pentagon\\n6. Heaxagon\")\n",
    "    Shape=int(input())\n",
    "    if(Shape==1):\n",
    "        drawsquare()\n",
    "    elif(Shape==2):\n",
    "        drawrect()\n",
    "    elif(Shape==3):\n",
    "        drawcirc()\n",
    "    elif(Shape==4):\n",
    "        drawtri()\n",
    "    elif(Shape==5):\n",
    "        drawpent()\n",
    "    elif(Shape==6):\n",
    "        drawhex()\n",
    "    print(\"Do you want to continue drawing Y/N\")\n",
    "    choice=input()\n",
    "    \n",
    "        \n",
    "        \n",
    "          "
   ]
  },
  {
   "cell_type": "code",
   "execution_count": null,
   "metadata": {},
   "outputs": [],
   "source": []
  }
 ],
 "metadata": {
  "kernelspec": {
   "display_name": "Python 3",
   "language": "python",
   "name": "python3"
  },
  "language_info": {
   "codemirror_mode": {
    "name": "ipython",
    "version": 3
   },
   "file_extension": ".py",
   "mimetype": "text/x-python",
   "name": "python",
   "nbconvert_exporter": "python",
   "pygments_lexer": "ipython3",
   "version": "3.8.5"
  }
 },
 "nbformat": 4,
 "nbformat_minor": 2
}
